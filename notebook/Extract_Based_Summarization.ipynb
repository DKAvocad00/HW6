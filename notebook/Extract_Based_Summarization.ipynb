{
 "cells": [
  {
   "cell_type": "code",
   "execution_count": 199,
   "id": "initial_id",
   "metadata": {
    "collapsed": true,
    "ExecuteTime": {
     "end_time": "2023-09-08T16:30:25.151146536Z",
     "start_time": "2023-09-08T16:30:25.049132196Z"
    }
   },
   "outputs": [
    {
     "name": "stderr",
     "output_type": "stream",
     "text": [
      "[nltk_data] Downloading package punkt to /home/avocad00/nltk_data...\n",
      "[nltk_data]   Package punkt is already up-to-date!\n"
     ]
    },
    {
     "data": {
      "text/plain": "True"
     },
     "execution_count": 199,
     "metadata": {},
     "output_type": "execute_result"
    }
   ],
   "source": [
    "from sklearn.feature_extraction.text import TfidfVectorizer\n",
    "from sklearn.metrics.pairwise import cosine_similarity\n",
    "import numpy as np\n",
    "from heapq import nlargest\n",
    "from nltk import sent_tokenize\n",
    "import warnings\n",
    "import nltk \n",
    "\n",
    "warnings.filterwarnings(\"ignore\")\n",
    "%matplotlib inline\n",
    "nltk.download('punkt')"
   ]
  },
  {
   "cell_type": "code",
   "execution_count": 200,
   "outputs": [],
   "source": [
    "FILE_PATH = '../data/tech/020.txt'\n",
    "TOP_SENTENCES = 5 "
   ],
   "metadata": {
    "collapsed": false,
    "ExecuteTime": {
     "end_time": "2023-09-08T16:30:25.151551617Z",
     "start_time": "2023-09-08T16:30:25.090050391Z"
    }
   },
   "id": "8a6e3a5ad6dd9dc2"
  },
  {
   "cell_type": "code",
   "execution_count": 201,
   "outputs": [],
   "source": [
    "def read_data(file_path):\n",
    "\n",
    "    lines = open(file_path,encoding='utf-8').read().strip().split('\\n')\n",
    "    lines = [l.strip() for l in lines if l.strip() != '']\n",
    "    \n",
    "    return lines"
   ],
   "metadata": {
    "collapsed": false,
    "ExecuteTime": {
     "end_time": "2023-09-08T16:30:25.151635008Z",
     "start_time": "2023-09-08T16:30:25.090209281Z"
    }
   },
   "id": "7d002013d81219eb"
  },
  {
   "cell_type": "code",
   "execution_count": 202,
   "outputs": [],
   "source": [
    "def split_data(texts):\n",
    "    sentence = [sentence for text in texts for sentence in sent_tokenize(text)] \n",
    "\n",
    "    return sentence\n",
    "    "
   ],
   "metadata": {
    "collapsed": false,
    "ExecuteTime": {
     "end_time": "2023-09-08T16:30:25.151703662Z",
     "start_time": "2023-09-08T16:30:25.090283103Z"
    }
   },
   "id": "fa0d23ba3241bd15"
  },
  {
   "cell_type": "code",
   "execution_count": 203,
   "outputs": [],
   "source": [
    "def generate_summary_сosin(texts, n):\n",
    "\n",
    "    sentences = split_data(texts)\n",
    "    vectorizer = TfidfVectorizer(stop_words='english')\n",
    "    \n",
    "    tfidf_matrix = vectorizer.fit_transform(sentences)\n",
    "    sentence_scores = cosine_similarity(tfidf_matrix[-1], tfidf_matrix[:-1])[0]\n",
    "    summary_sentences = nlargest(n, range(len(sentence_scores)), key=sentence_scores.__getitem__)\n",
    "\n",
    "    summary_tfidf = ' '.join([sentences[i] for i in sorted(summary_sentences)])\n",
    "\n",
    "    return summary_tfidf\n",
    "    "
   ],
   "metadata": {
    "collapsed": false,
    "ExecuteTime": {
     "end_time": "2023-09-08T16:30:25.151763796Z",
     "start_time": "2023-09-08T16:30:25.090362374Z"
    }
   },
   "id": "e5950bc90bf71c74"
  },
  {
   "cell_type": "code",
   "execution_count": 204,
   "outputs": [],
   "source": [
    "def generate_summary_mean(texts, n):\n",
    "    \n",
    "    sentences = split_data(texts)\n",
    "    vectorizer = TfidfVectorizer(stop_words='english')\n",
    "    \n",
    "    tfidf_matrix = vectorizer.fit_transform(sentences)\n",
    "    sentence_scores = [np.mean(tfidf_matrix[i].data) if tfidf_matrix[i].nnz > 0 else 0 for i in range(len(sentences))]\n",
    "\n",
    "    summary_tfidf = ' '.join([sentences[i] for i in np.argsort(sentence_scores)[::-1][:n]])\n",
    "    \n",
    "    return summary_tfidf"
   ],
   "metadata": {
    "collapsed": false,
    "ExecuteTime": {
     "end_time": "2023-09-08T16:30:25.151829098Z",
     "start_time": "2023-09-08T16:30:25.090450584Z"
    }
   },
   "id": "901d4047fbe2dacd"
  },
  {
   "cell_type": "code",
   "execution_count": 205,
   "outputs": [],
   "source": [
    "texts = read_data(FILE_PATH)"
   ],
   "metadata": {
    "collapsed": false,
    "ExecuteTime": {
     "end_time": "2023-09-08T16:30:25.152142897Z",
     "start_time": "2023-09-08T16:30:25.098221095Z"
    }
   },
   "id": "e5e44864af47370b"
  },
  {
   "cell_type": "code",
   "execution_count": 206,
   "outputs": [
    {
     "name": "stdout",
     "output_type": "stream",
     "text": [
      "SUMMARY WITH COSIN METRIC: \n",
      "\n",
      " Microsoft is working on a new version of its Internet Explorer web browser. The decision to make Internet Explorer 7 is widely seen as a U-turn because, before now, Microsoft said it had no need to update the browser. The current version of Internet Explorer is four years old, and is widely seen as falling behind rivals such as Firefox and Opera. In particular the Firefox browser has been winning fans and users since its first full version was released in November 2004. According to market statistics gathered by Websidestory, Firefox's market share is now about 5% of all users. \n",
      "\n",
      "SUMMARY WITH MEAN METRIC: \n",
      "\n",
      " Security scares spark browser fix Estimates of how many users Firefox has won over vary widely. An own-brand anti-virus program is due to follow by the end of 2005. Test versions of the new program, called IE 7, are due to be released by the summer. However, other browser stat gatherers say the figure is closer to 15%. \n",
      "\n",
      "ORIGINAL TEXT: \n",
      "\n",
      " Security scares spark browser fix Microsoft is working on a new version of its Internet Explorer web browser. The revamp has been prompted by Microsoft's growing concern with security as well as increased competition from rival browsers. Microsoft said the new version will be far less vulnerable to the bugs that make its current browser a favourite of tech-savvy criminals. Test versions of the new program, called IE 7, are due to be released by the summer. The announcement about Internet Explorer was made by Bill Gates, Microsoft chairman and chief software architect, during a keynote speech at the RSA Security conference currently being held in San Francisco. Although details were scant, Mr Gates, said IE7 would include new protections against viruses, spyware and phishing scams. This last category of threats involves criminals setting up spoof websites that look identical to those of banks and try to trick people into handing over login and account information. In a bid to shore up the poor security in IE 6, Microsoft has regularly issued updates to patch loopholes exploited by criminals and the makers of nuisance programs such as spyware. Earlier this month it released a security bulletin that patched eight critical security holes - some of which were found in the IE browser. Microsoft has also made a series of acquisitions of small firms that specialise in computer security. One of the first fruits of these acquisitions appeared last month with the release of a Microsoft anti-spyware program. An own-brand anti-virus program is due to follow by the end of 2005. The decision to make Internet Explorer 7 is widely seen as a U-turn because, before now, Microsoft said it had no need to update the browser. Typically new versions of its browser appear with successive versions of the Windows operating system. A new version of IE was widely expected to debut with the next version of Windows, codenamed Longhorn, which is due to appear in 2006. The current version of Internet Explorer is four years old, and is widely seen as falling behind rivals such as Firefox and Opera. There are also persistent rumours that search engine Google is poised to produce its own brand browser based on Firefox. In particular the Firefox browser has been winning fans and users since its first full version was released in November 2004. Estimates of how many users Firefox has won over vary widely. According to market statistics gathered by Websidestory, Firefox's market share is now about 5% of all users. However, other browser stat gatherers say the figure is closer to 15%. Some technical websites report that a majority of their visitors use the Firefox browser. Internet Explorer still dominates with a share of about 90% but this is down from a peak of almost 96% in mid-2004.\n"
     ]
    }
   ],
   "source": [
    "print('SUMMARY WITH COSIN METRIC: \\n\\n {} \\n\\nSUMMARY WITH MEAN METRIC: \\n\\n {} \\n\\nORIGINAL TEXT: \\n\\n {}'.format(\n",
    "generate_summary_сosin(texts,TOP_SENTENCES),generate_summary_mean(texts,TOP_SENTENCES),' '.join(texts)))"
   ],
   "metadata": {
    "collapsed": false,
    "ExecuteTime": {
     "end_time": "2023-09-08T16:30:25.152529261Z",
     "start_time": "2023-09-08T16:30:25.142362063Z"
    }
   },
   "id": "73c7fd45f65ffc1"
  }
 ],
 "metadata": {
  "kernelspec": {
   "display_name": "Python 3",
   "language": "python",
   "name": "python3"
  },
  "language_info": {
   "codemirror_mode": {
    "name": "ipython",
    "version": 2
   },
   "file_extension": ".py",
   "mimetype": "text/x-python",
   "name": "python",
   "nbconvert_exporter": "python",
   "pygments_lexer": "ipython2",
   "version": "2.7.6"
  }
 },
 "nbformat": 4,
 "nbformat_minor": 5
}
