{
 "cells": [
  {
   "cell_type": "code",
   "execution_count": 309,
   "id": "initial_id",
   "metadata": {
    "collapsed": true,
    "ExecuteTime": {
     "end_time": "2023-09-08T12:41:14.018768939Z",
     "start_time": "2023-09-08T12:41:13.901783280Z"
    }
   },
   "outputs": [],
   "source": [
    "from gensim.parsing import strip_tags, strip_numeric, \\\n",
    "    strip_multiple_whitespaces, strip_punctuation, \\\n",
    "    remove_stopwords, preprocess_string\n",
    "from gensim import corpora,models,similarities\n",
    "import warnings\n",
    "\n",
    "import os\n",
    "import re\n",
    "\n",
    "warnings.filterwarnings(\"ignore\")\n",
    "%matplotlib inline"
   ]
  },
  {
   "cell_type": "code",
   "execution_count": 310,
   "outputs": [],
   "source": [
    "FOlDER_PATH = '../data/tech/'\n",
    "CLEAN_FILTERS = [strip_tags,\n",
    "                strip_numeric,\n",
    "                strip_punctuation, \n",
    "                strip_multiple_whitespaces, \n",
    "                remove_stopwords]"
   ],
   "metadata": {
    "collapsed": false,
    "ExecuteTime": {
     "end_time": "2023-09-08T12:41:14.018952973Z",
     "start_time": "2023-09-08T12:41:13.945847378Z"
    }
   },
   "id": "72ee3ef81507f2b1"
  },
  {
   "cell_type": "code",
   "execution_count": 311,
   "outputs": [],
   "source": [
    "def read_data(folder_path):\n",
    "    documents = []\n",
    "    \n",
    "    for filename in os.listdir(folder_path):\n",
    "        if filename.endswith('.txt'):\n",
    "            file_path = os.path.join(folder_path, filename)\n",
    "            lines = open(file_path,encoding='utf-8').read().strip().split('\\n')\n",
    "            lines = [l.strip() for l in lines if l.strip() != '']\n",
    "            documents.extend(lines)\n",
    "    return documents"
   ],
   "metadata": {
    "collapsed": false,
    "ExecuteTime": {
     "end_time": "2023-09-08T12:41:14.019030078Z",
     "start_time": "2023-09-08T12:41:13.945975188Z"
    }
   },
   "id": "4d2c9dca40cbf935"
  },
  {
   "cell_type": "code",
   "execution_count": 312,
   "outputs": [],
   "source": [
    "def cleaning_doc(document):\n",
    "    document = document.lower()\n",
    "    document = re.sub(r\"[^a-zA-Z]+\", r' ', document)\n",
    "    document = re.sub(r'\\s+\\w{1}\\s+', r' ', document)\n",
    "    processed_words = preprocess_string(document, CLEAN_FILTERS)\n",
    "    \n",
    "    return processed_words"
   ],
   "metadata": {
    "collapsed": false,
    "ExecuteTime": {
     "end_time": "2023-09-08T12:41:14.019098803Z",
     "start_time": "2023-09-08T12:41:13.946035672Z"
    }
   },
   "id": "de5fca18fdb31cc8"
  },
  {
   "cell_type": "code",
   "execution_count": 313,
   "outputs": [],
   "source": [
    "def create_dict(documents):\n",
    "    texts = [cleaning_doc(document) for document in documents]\n",
    "    dictionary = corpora.Dictionary(texts)\n",
    "    \n",
    "    return dictionary,texts"
   ],
   "metadata": {
    "collapsed": false,
    "ExecuteTime": {
     "end_time": "2023-09-08T12:41:14.019190925Z",
     "start_time": "2023-09-08T12:41:13.946099088Z"
    }
   },
   "id": "98ed50fba7f7d460"
  },
  {
   "cell_type": "code",
   "execution_count": 314,
   "outputs": [],
   "source": [
    "def create_corpus(dictionary, texts):\n",
    "    corpus = [dictionary.doc2bow(text) for text in texts]\n",
    "    return corpus"
   ],
   "metadata": {
    "collapsed": false,
    "ExecuteTime": {
     "end_time": "2023-09-08T12:41:14.019283465Z",
     "start_time": "2023-09-08T12:41:13.946146860Z"
    }
   },
   "id": "d009885860dd176"
  },
  {
   "cell_type": "code",
   "execution_count": 315,
   "outputs": [],
   "source": [
    "def get_similar(query,n):\n",
    "    vec = tfidf[dictionary.doc2bow(cleaning_doc(query))]\n",
    "    index = similarities.MatrixSimilarity(tfidf[corpus])\n",
    "    sims = index[tfidf[vec]]\n",
    "    sims = sorted(enumerate(sims), key=lambda item: -item[1])[:n]\n",
    "    \n",
    "    print(\"Query:\", query)\n",
    "    print('Top {} similar documents: '.format(n), '\\n')\n",
    "    \n",
    "    for i in sims:\n",
    "        print('doc', i[0], documents[i[0]], round(i[1],3),'\\n') "
   ],
   "metadata": {
    "collapsed": false,
    "ExecuteTime": {
     "end_time": "2023-09-08T12:41:14.019389136Z",
     "start_time": "2023-09-08T12:41:13.946185902Z"
    }
   },
   "id": "5f4a0369fc10d2ab"
  },
  {
   "cell_type": "code",
   "execution_count": 316,
   "outputs": [],
   "source": [
    "documents = read_data(FOlDER_PATH)"
   ],
   "metadata": {
    "collapsed": false,
    "ExecuteTime": {
     "end_time": "2023-09-08T12:41:14.019482864Z",
     "start_time": "2023-09-08T12:41:13.947293457Z"
    }
   },
   "id": "84897c43393b106d"
  },
  {
   "cell_type": "code",
   "execution_count": 317,
   "outputs": [],
   "source": [
    "dictionary,texts = create_dict(documents)"
   ],
   "metadata": {
    "collapsed": false,
    "ExecuteTime": {
     "end_time": "2023-09-08T12:41:14.262284168Z",
     "start_time": "2023-09-08T12:41:13.969704433Z"
    }
   },
   "id": "dadd851d6d175c63"
  },
  {
   "cell_type": "code",
   "execution_count": 318,
   "outputs": [],
   "source": [
    "corpus = create_corpus(dictionary,texts)"
   ],
   "metadata": {
    "collapsed": false,
    "ExecuteTime": {
     "end_time": "2023-09-08T12:41:14.317391126Z",
     "start_time": "2023-09-08T12:41:14.306250975Z"
    }
   },
   "id": "ff358b514cb5b47c"
  },
  {
   "cell_type": "code",
   "execution_count": 319,
   "outputs": [],
   "source": [
    "tfidf = models.TfidfModel(corpus)"
   ],
   "metadata": {
    "collapsed": false,
    "ExecuteTime": {
     "end_time": "2023-09-08T12:41:14.358263583Z",
     "start_time": "2023-09-08T12:41:14.350743693Z"
    }
   },
   "id": "b801f981149ba071"
  },
  {
   "cell_type": "code",
   "execution_count": 333,
   "outputs": [],
   "source": [
    "query = \"human computer interaction\""
   ],
   "metadata": {
    "collapsed": false,
    "ExecuteTime": {
     "end_time": "2023-09-08T12:45:48.861181156Z",
     "start_time": "2023-09-08T12:45:48.840946523Z"
    }
   },
   "id": "a7d074b95ce9782"
  },
  {
   "cell_type": "code",
   "execution_count": 335,
   "outputs": [
    {
     "name": "stdout",
     "output_type": "stream",
     "text": [
      "Query: human computer interaction\n",
      "Top 5 similar documents:  \n",
      "\n",
      "doc 877 Literally putting a face on technology could be one of the keys to improving our interaction with hi-tech gadgets. 0.335 \n",
      "\n",
      "doc 2556 Showing off its skills at the Science Museum, the unnamed robot had to select, approach, and ask different children to pick up a parcel with a gift, moving it arm as a pointer and its camera as an eye. It even used speech to give instructions and play music. However, according to researchers, it will still take many years to build a robot which would make full use of the \"robotiquette\" for human interaction. \"If you think of a robot as a companion for the human being, you can think of 20 years into the future,\" concluded Professor Dautenhahn. \"It might take even longer because it is very, very hard to develop such a robot.\" 0.242 \n",
      "\n",
      "doc 2552 By playing games, like pass-the-parcel, a University of Hertfordshire team is finding out how future robot companions should react in social situations. The study's findings will eventually help humans develop a code of social behaviour in human-robot interaction. The work is part of the European Cogniron robotics project, and was on show at London's Science Museum. 0.229 \n",
      "\n",
      "doc 2318 It seems unlikely that we will end up living in a planet where every human is a blogger. 0.181 \n",
      "\n",
      "doc 2554 The research also focuses on human perception of robots, including how they should look, and how a robot can learn new skills by imitating a human demonstrator. \"Without such studies, you will build robots which might not respect the fact that humans are individuals, have preferences and come from different cultural backgrounds,\" Professor Dautenhahn told BBC News Online. \"And I want robots to treat humans as human beings, and not like other robots,\" she added. 0.16 \n"
     ]
    }
   ],
   "source": [
    "get_similar(query,5)"
   ],
   "metadata": {
    "collapsed": false,
    "ExecuteTime": {
     "end_time": "2023-09-08T12:46:02.434488366Z",
     "start_time": "2023-09-08T12:46:02.139334971Z"
    }
   },
   "id": "c18a8c3891c99c95"
  },
  {
   "cell_type": "code",
   "execution_count": null,
   "outputs": [],
   "source": [],
   "metadata": {
    "collapsed": false
   },
   "id": "9e543ced4525b46a"
  }
 ],
 "metadata": {
  "kernelspec": {
   "display_name": "Python 3",
   "language": "python",
   "name": "python3"
  },
  "language_info": {
   "codemirror_mode": {
    "name": "ipython",
    "version": 2
   },
   "file_extension": ".py",
   "mimetype": "text/x-python",
   "name": "python",
   "nbconvert_exporter": "python",
   "pygments_lexer": "ipython2",
   "version": "2.7.6"
  }
 },
 "nbformat": 4,
 "nbformat_minor": 5
}
